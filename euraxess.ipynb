{
 "cells": [
  {
   "cell_type": "code",
   "execution_count": 1,
   "id": "7c94d6de",
   "metadata": {},
   "outputs": [],
   "source": [
    "import requests\n",
    "from bs4 import BeautifulSoup\n",
    "from time import sleep\n",
    "import pandas as pd\n",
    "from tqdm import tqdm_notebook as tqdm # this is a fancy progress bar!\n",
    "import numpy as np\n",
    "from datetime import datetime"
   ]
  },
  {
   "cell_type": "code",
   "execution_count": null,
   "id": "af7d8957",
   "metadata": {},
   "outputs": [],
   "source": [
    "df = pd.read_csv(r'C:\\Users\\pvras\\big blue data\\euraxess.csv)"
   ]
  },
  {
   "cell_type": "code",
   "execution_count": null,
   "id": "40a53a73",
   "metadata": {},
   "outputs": [],
   "source": [
    "df"
   ]
  },
  {
   "cell_type": "code",
   "execution_count": 2,
   "id": "398dec58",
   "metadata": {},
   "outputs": [],
   "source": [
    "main_link = 'https://euraxess.ec.europa.eu/jobs/search'"
   ]
  },
  {
   "cell_type": "code",
   "execution_count": 3,
   "id": "a804d396",
   "metadata": {},
   "outputs": [],
   "source": [
    "user_agent = {'User-agent': ''}\n",
    "response = requests.get(main_link, timeout=50, headers= user_agent)"
   ]
  },
  {
   "cell_type": "code",
   "execution_count": 4,
   "id": "c00c2c48",
   "metadata": {},
   "outputs": [],
   "source": [
    "soup = BeautifulSoup(response.content, 'html.parser')"
   ]
  },
  {
   "cell_type": "code",
   "execution_count": 5,
   "id": "f4715353",
   "metadata": {},
   "outputs": [],
   "source": [
    "from bs4 import BeautifulSoup\n",
    "import urllib.request"
   ]
  },
  {
   "cell_type": "code",
   "execution_count": 6,
   "id": "0b4cae59",
   "metadata": {},
   "outputs": [
    {
     "name": "stdout",
     "output_type": "stream",
     "text": [
      "#main-content\n",
      "/\n",
      "https://ec.europa.eu\n",
      "/\n",
      "/jobs\n",
      "/\n",
      "/jobs\n",
      "# \n",
      "/jobs#job-tabs-tab-3-name\n",
      "/jobs/charter-code-researchers\n",
      "/jobs/hrs4r\n",
      "/information/pensions-researchers\n",
      "/jobs/science4refugees\n",
      "/jobs#job-tabs-tab-4-name\n",
      "/information/centres/search/field_esc_expertise/career-development-1219\n",
      "https://euraxess.ec.europa.eu/career-development/researchers\n",
      "https://euraxess.ec.europa.eu/career-development/researchers#career-tabs-find-training-resources\n",
      "https://euraxess.ec.europa.eu/career-development/organisations\n",
      "/jobs/search\n",
      "/jobs/posting\n",
      "/funding/search\n",
      "/jobs/hosting/search\n",
      "/career-development\n",
      "/partnering\n",
      "# \n",
      "/partnering/members/search\n",
      "/partnering/organisations/search\n",
      "/my\n",
      "/information\n",
      "# \n",
      "/information#information-assistance-tab-component-tab-2-name\n",
      "https://euraxess.ec.europa.eu/information#information-assistance-tab-component-tab-3-name\n",
      "https://euraxess.ec.europa.eu/information#information-assistance-tab-component-tab-4-name\n",
      "/choose-your-country\n",
      "/information/centres/search\n",
      "/choose-your-country\n",
      "/worldwide\n",
      "# \n",
      "/worldwide/africa\n",
      "/worldwide/asean\n",
      "/worldwide/australia-nz\n",
      "/worldwide/lac\n",
      "/worldwide/china\n",
      "/worldwide/india\n",
      "/worldwide/japan\n",
      "/worldwide/south-korea\n",
      "/worldwide/north-america\n",
      "/user\n",
      "#field_research_field_tab_item\n",
      "#field_research_profile_tab_item\n",
      "#field_hiring_body_field_organisation_type_tab_item\n",
      "#field_offer_location_field_country_tab_item\n",
      "#field_is_eu_founded_tab_item\n",
      "#field_research_profile\n",
      "/\n",
      "/jobs/search?filterBy=science4refugees\n",
      "/jobs/search?filterBy=researchInfrastructures\n",
      "/jobs/search?sort=created&order=desc\n",
      "/jobs/search?sort=field_application_deadline&order=asc\n",
      "/jobs/694150\n",
      "/jobs/694150\n",
      "/jobs/694148\n",
      "/jobs/694148\n",
      "/jobs/694146\n",
      "/jobs/694146\n",
      "/jobs/hrs4r\n",
      "/jobs/694143\n",
      "/jobs/694143\n",
      "/jobs/hrs4r\n",
      "/jobs/694140\n",
      "/jobs/694140\n",
      "/jobs/hrs4r\n",
      "/jobs/694137\n",
      "/jobs/694137\n",
      "/jobs/694136\n",
      "/jobs/694136\n",
      "/jobs/694133\n",
      "/jobs/694133\n",
      "/jobs/694131\n",
      "/jobs/694131\n",
      "/jobs/hrs4r\n",
      "/jobs/694130\n",
      "/jobs/694130\n",
      "/jobs/search?page=1\n",
      "mailto:support@euraxess.org\n",
      "/user?destination=jobs/search\n",
      "#\n",
      "https://www.facebook.com/euraxess/\n",
      "https://www.linkedin.com/company/euraxessofficial/\n",
      "/contact-us\n",
      "/jobs\n",
      "/jobs/search\n",
      "/jobs#job-tabs-tab-1-name\n",
      "/funding/search\n",
      "/jobs/hosting/search\n",
      "/jobs/charter-code-researchers\n",
      "/jobs/hrs4r\n",
      "/career-development\n",
      "/career-development/researchers\n",
      "/career-development/organisations\n",
      "/partnering\n",
      "/partnering/members/search\n",
      "/partnering/organisations/search\n",
      "/information\n",
      "/information#information-tabs-living-in-europe\n",
      "/information#information-tabs-working-in-europe\n",
      "/information#information-tabs-leaving-europe\n",
      "/information/centres/search\n",
      "/information/pensions-researchers\n",
      "/information#entry_conditions\n",
      "/worldwide\n",
      "https://euraxess.ec.europa.eu/worldwide/africa\n",
      "/worldwide/asean\n",
      "/worldwide/australia-nz\n",
      "/worldwide/china\n",
      "/worldwide/india\n",
      "/worldwide/japan\n",
      "/worldwide/south-korea\n",
      "/worldwide/lac\n",
      "/worldwide/north-america\n",
      "/my\n",
      "/user\n",
      "/user/register\n",
      "/useful-information\n",
      "/contact-us\n",
      "/contact-us\n",
      "/useful-information/about-euraxess\n",
      "/useful-information/faq\n",
      "/useful-information/brochures\n",
      "/useful-information/policy-library\n",
      "/useful-information/useful-links\n",
      "/useful-information/privacy-statement\n",
      "/useful-information#legal-information\n",
      "/useful-information/accessibility-statement\n",
      "https://ec.europa.eu/commission/index_en\n",
      "https://ec.europa.eu/info/index_en\n",
      "https://www.facebook.com/EuropeanCommission\n",
      "https://twitter.com/EU_commission\n",
      "https://europa.eu/european-union/contact/social-networks_en\n",
      "https://europa.eu/european-union/about-eu/institutions-bodies_en\n",
      "https://europa.eu/european-union/index_en\n",
      "http://ec.europa.eu/info/about-commissions-new-web-presence_en\n",
      "http://ec.europa.eu/info/resources-partners_en\n",
      "http://ec.europa.eu/info/cookies_en\n",
      "http://ec.europa.eu/info/legal-notice_en\n",
      "http://ec.europa.eu/info/contact_en\n"
     ]
    }
   ],
   "source": [
    "parser = 'html.parser'  # or 'lxml' (preferred) or 'html5lib', if installed\n",
    "resp = urllib.request.urlopen(\"https://euraxess.ec.europa.eu/jobs/search\")\n",
    "soup = BeautifulSoup(resp, parser, from_encoding=resp.info().get_param('charset'))\n",
    "\n",
    "for link in soup.find_all('a', href=True):\n",
    "    print(link['href'])"
   ]
  },
  {
   "cell_type": "code",
   "execution_count": 7,
   "id": "18eb7933",
   "metadata": {},
   "outputs": [],
   "source": [
    "content = soup.find('div', class_='view-content')\n",
    "ads = content.findAll('div', class_='col-sm-12 col-md-6')"
   ]
  },
  {
   "cell_type": "code",
   "execution_count": 8,
   "id": "acdcbd52",
   "metadata": {},
   "outputs": [
    {
     "data": {
      "text/plain": [
       "[<div class=\"col-sm-12 col-md-6\"><h2><a href=\"/jobs/694150\">Junior Fellow - 2D Materials and Technology</a></h2>\n",
       " </div>,\n",
       " <div class=\"col-sm-12 col-md-6\"><h2><a href=\"/jobs/694148\">Several PhD Positions in Life Sciences (65% TVL 13) (# of pos: 9)</a></h2>\n",
       " </div>,\n",
       " <div class=\"col-sm-12 col-md-6\"><h2><a href=\"/jobs/694146\">IT Helpdesk Technician</a></h2>\n",
       " </div>,\n",
       " <div class=\"col-sm-12 col-md-6\"><h2><a href=\"/jobs/694143\">Call for applications for election of one associate into the associate position of a nominal...</a></h2>\n",
       " </div>,\n",
       " <div class=\"col-sm-12 col-md-6\"><h2><a href=\"/jobs/694140\">Call for applications for election of one lecturer into the teaching position of a nominal...</a></h2>\n",
       " </div>,\n",
       " <div class=\"col-sm-12 col-md-6\"><h2><a href=\"/jobs/694137\">Call for applications for election of one lecturer into the teaching position of a nominal...</a></h2>\n",
       " </div>,\n",
       " <div class=\"col-sm-12 col-md-6\"><h2><a href=\"/jobs/694136\">Scholarship for Master enrolled in Doctorate - CIU3A Project</a></h2>\n",
       " </div>,\n",
       " <div class=\"col-sm-12 col-md-6\"><h2><a href=\"/jobs/694133\">Full professor</a></h2>\n",
       " </div>,\n",
       " <div class=\"col-sm-12 col-md-6\"><h2><a href=\"/jobs/694131\">assistant</a></h2>\n",
       " </div>,\n",
       " <div class=\"col-sm-12 col-md-6\"><h2><a href=\"/jobs/694130\">Call for applications for election of one lecturer into the teaching position and corresponding...</a></h2>\n",
       " </div>]"
      ]
     },
     "execution_count": 8,
     "metadata": {},
     "output_type": "execute_result"
    }
   ],
   "source": [
    "ads"
   ]
  },
  {
   "cell_type": "code",
   "execution_count": 9,
   "id": "a9abf9c7",
   "metadata": {},
   "outputs": [],
   "source": [
    "website = 'https://euraxess.ec.europa.eu'\n",
    "\n",
    "lst = []\n",
    "for ad in ads:\n",
    "    lst.append([website + ad.find('a').get('href'), ad.find('a').text])"
   ]
  },
  {
   "cell_type": "code",
   "execution_count": 10,
   "id": "31d621cc",
   "metadata": {},
   "outputs": [
    {
     "data": {
      "text/plain": [
       "[['https://euraxess.ec.europa.eu/jobs/694150',\n",
       "  'Junior\\xa0Fellow - 2D Materials and Technology'],\n",
       " ['https://euraxess.ec.europa.eu/jobs/694148',\n",
       "  'Several PhD Positions in Life Sciences (65% TVL 13) (# of pos: 9)'],\n",
       " ['https://euraxess.ec.europa.eu/jobs/694146', 'IT Helpdesk Technician'],\n",
       " ['https://euraxess.ec.europa.eu/jobs/694143',\n",
       "  'Call for applications for election of one associate into the associate position of a nominal...'],\n",
       " ['https://euraxess.ec.europa.eu/jobs/694140',\n",
       "  'Call for applications for election of one lecturer into the teaching position of a nominal...'],\n",
       " ['https://euraxess.ec.europa.eu/jobs/694137',\n",
       "  'Call for applications for election of one lecturer into the teaching position of a nominal...'],\n",
       " ['https://euraxess.ec.europa.eu/jobs/694136',\n",
       "  'Scholarship for Master enrolled in Doctorate - CIU3A Project'],\n",
       " ['https://euraxess.ec.europa.eu/jobs/694133', 'Full professor'],\n",
       " ['https://euraxess.ec.europa.eu/jobs/694131', 'assistant'],\n",
       " ['https://euraxess.ec.europa.eu/jobs/694130',\n",
       "  'Call for applications for election of one lecturer into the teaching position and corresponding...']]"
      ]
     },
     "execution_count": 10,
     "metadata": {},
     "output_type": "execute_result"
    }
   ],
   "source": [
    "lst"
   ]
  },
  {
   "cell_type": "code",
   "execution_count": 11,
   "id": "a5ea79ca",
   "metadata": {},
   "outputs": [
    {
     "data": {
      "text/plain": [
       "'891'"
      ]
     },
     "execution_count": 11,
     "metadata": {},
     "output_type": "execute_result"
    }
   ],
   "source": [
    "pages = soup.find('ul', class_='pager').find('li', class_=\"pager-current\").text.split()[-1]\n",
    "pages"
   ]
  },
  {
   "cell_type": "code",
   "execution_count": 12,
   "id": "13582a92",
   "metadata": {},
   "outputs": [],
   "source": [
    "def find_max_pages(link):\n",
    "    user_agent = {'User-agent': 'Chrome'}\n",
    "    response = requests.get(link, timeout=15, headers= user_agent)\n",
    "    soup = BeautifulSoup(response.content, 'html.parser')\n",
    "    pages = soup.find('ul', class_='pager').find('li', class_=\"pager-current\").text.split()[-1]\n",
    "    return pages"
   ]
  },
  {
   "cell_type": "code",
   "execution_count": 13,
   "id": "065b39ea",
   "metadata": {},
   "outputs": [],
   "source": [
    "max_pages=find_max_pages(main_link)"
   ]
  },
  {
   "cell_type": "code",
   "execution_count": 14,
   "id": "70beaf33",
   "metadata": {},
   "outputs": [
    {
     "name": "stderr",
     "output_type": "stream",
     "text": [
      "<ipython-input-14-0b859310c0b2>:3: TqdmDeprecationWarning: This function will be removed in tqdm==5.0.0\n",
      "Please use `tqdm.notebook.tqdm` instead of `tqdm.tqdm_notebook`\n",
      "  for page in tqdm(range(0, int(max_pages))):\n"
     ]
    },
    {
     "data": {
      "application/vnd.jupyter.widget-view+json": {
       "model_id": "94081110c6d7431d93d8fbf000d0037e",
       "version_major": 2,
       "version_minor": 0
      },
      "text/plain": [
       "  0%|          | 0/891 [00:00<?, ?it/s]"
      ]
     },
     "metadata": {},
     "output_type": "display_data"
    },
    {
     "name": "stdout",
     "output_type": "stream",
     "text": [
      "https://euraxess.ec.europa.eu/jobs/search?page=0/\n",
      "https://euraxess.ec.europa.eu/jobs/search?page=1/\n",
      "https://euraxess.ec.europa.eu/jobs/search?page=2/\n",
      "https://euraxess.ec.europa.eu/jobs/search?page=3/\n",
      "https://euraxess.ec.europa.eu/jobs/search?page=4/\n",
      "https://euraxess.ec.europa.eu/jobs/search?page=5/\n",
      "https://euraxess.ec.europa.eu/jobs/search?page=6/\n",
      "https://euraxess.ec.europa.eu/jobs/search?page=7/\n",
      "https://euraxess.ec.europa.eu/jobs/search?page=8/\n",
      "https://euraxess.ec.europa.eu/jobs/search?page=9/\n",
      "https://euraxess.ec.europa.eu/jobs/search?page=10/\n",
      "https://euraxess.ec.europa.eu/jobs/search?page=11/\n",
      "https://euraxess.ec.europa.eu/jobs/search?page=12/\n",
      "https://euraxess.ec.europa.eu/jobs/search?page=13/\n",
      "https://euraxess.ec.europa.eu/jobs/search?page=14/\n",
      "https://euraxess.ec.europa.eu/jobs/search?page=15/\n",
      "https://euraxess.ec.europa.eu/jobs/search?page=16/\n",
      "https://euraxess.ec.europa.eu/jobs/search?page=17/\n",
      "https://euraxess.ec.europa.eu/jobs/search?page=18/\n",
      "https://euraxess.ec.europa.eu/jobs/search?page=19/\n",
      "https://euraxess.ec.europa.eu/jobs/search?page=20/\n",
      "https://euraxess.ec.europa.eu/jobs/search?page=21/\n",
      "https://euraxess.ec.europa.eu/jobs/search?page=22/\n",
      "https://euraxess.ec.europa.eu/jobs/search?page=23/\n",
      "https://euraxess.ec.europa.eu/jobs/search?page=24/\n",
      "https://euraxess.ec.europa.eu/jobs/search?page=25/\n",
      "https://euraxess.ec.europa.eu/jobs/search?page=26/\n",
      "https://euraxess.ec.europa.eu/jobs/search?page=27/\n",
      "https://euraxess.ec.europa.eu/jobs/search?page=28/\n",
      "https://euraxess.ec.europa.eu/jobs/search?page=29/\n",
      "https://euraxess.ec.europa.eu/jobs/search?page=30/\n",
      "https://euraxess.ec.europa.eu/jobs/search?page=31/\n",
      "https://euraxess.ec.europa.eu/jobs/search?page=32/\n",
      "https://euraxess.ec.europa.eu/jobs/search?page=33/\n",
      "https://euraxess.ec.europa.eu/jobs/search?page=34/\n",
      "https://euraxess.ec.europa.eu/jobs/search?page=35/\n",
      "https://euraxess.ec.europa.eu/jobs/search?page=36/\n",
      "https://euraxess.ec.europa.eu/jobs/search?page=37/\n",
      "https://euraxess.ec.europa.eu/jobs/search?page=38/\n",
      "https://euraxess.ec.europa.eu/jobs/search?page=39/\n"
     ]
    },
    {
     "ename": "KeyboardInterrupt",
     "evalue": "",
     "output_type": "error",
     "traceback": [
      "\u001b[1;31m---------------------------------------------------------------------------\u001b[0m",
      "\u001b[1;31mKeyboardInterrupt\u001b[0m                         Traceback (most recent call last)",
      "\u001b[1;32m<ipython-input-14-0b859310c0b2>\u001b[0m in \u001b[0;36m<module>\u001b[1;34m\u001b[0m\n\u001b[0;32m      5\u001b[0m     \u001b[0mprint\u001b[0m\u001b[1;33m(\u001b[0m\u001b[0mpage_link\u001b[0m\u001b[1;33m)\u001b[0m\u001b[1;33m\u001b[0m\u001b[1;33m\u001b[0m\u001b[0m\n\u001b[0;32m      6\u001b[0m     \u001b[0muser_agent\u001b[0m \u001b[1;33m=\u001b[0m \u001b[1;33m{\u001b[0m\u001b[1;34m'User-agent'\u001b[0m\u001b[1;33m:\u001b[0m \u001b[1;34m''\u001b[0m\u001b[1;33m}\u001b[0m\u001b[1;33m\u001b[0m\u001b[1;33m\u001b[0m\u001b[0m\n\u001b[1;32m----> 7\u001b[1;33m     \u001b[0mresponse\u001b[0m \u001b[1;33m=\u001b[0m \u001b[0mrequests\u001b[0m\u001b[1;33m.\u001b[0m\u001b[0mget\u001b[0m\u001b[1;33m(\u001b[0m\u001b[0mpage_link\u001b[0m\u001b[1;33m,\u001b[0m \u001b[0mtimeout\u001b[0m\u001b[1;33m=\u001b[0m\u001b[1;36m50\u001b[0m\u001b[1;33m,\u001b[0m \u001b[0mheaders\u001b[0m\u001b[1;33m=\u001b[0m \u001b[0muser_agent\u001b[0m\u001b[1;33m)\u001b[0m\u001b[1;33m\u001b[0m\u001b[1;33m\u001b[0m\u001b[0m\n\u001b[0m\u001b[0;32m      8\u001b[0m     \u001b[0msoup\u001b[0m \u001b[1;33m=\u001b[0m \u001b[0mBeautifulSoup\u001b[0m\u001b[1;33m(\u001b[0m\u001b[0mresponse\u001b[0m\u001b[1;33m.\u001b[0m\u001b[0mcontent\u001b[0m\u001b[1;33m,\u001b[0m \u001b[1;34m'html.parser'\u001b[0m\u001b[1;33m)\u001b[0m\u001b[1;33m\u001b[0m\u001b[1;33m\u001b[0m\u001b[0m\n\u001b[0;32m      9\u001b[0m     \u001b[0mcontent\u001b[0m \u001b[1;33m=\u001b[0m \u001b[0msoup\u001b[0m\u001b[1;33m.\u001b[0m\u001b[0mfind\u001b[0m\u001b[1;33m(\u001b[0m\u001b[1;34m'div'\u001b[0m\u001b[1;33m,\u001b[0m \u001b[0mclass_\u001b[0m\u001b[1;33m=\u001b[0m\u001b[1;34m'view-content'\u001b[0m\u001b[1;33m)\u001b[0m\u001b[1;33m\u001b[0m\u001b[1;33m\u001b[0m\u001b[0m\n",
      "\u001b[1;32m~\\anaconda3\\lib\\site-packages\\requests\\api.py\u001b[0m in \u001b[0;36mget\u001b[1;34m(url, params, **kwargs)\u001b[0m\n\u001b[0;32m     74\u001b[0m \u001b[1;33m\u001b[0m\u001b[0m\n\u001b[0;32m     75\u001b[0m     \u001b[0mkwargs\u001b[0m\u001b[1;33m.\u001b[0m\u001b[0msetdefault\u001b[0m\u001b[1;33m(\u001b[0m\u001b[1;34m'allow_redirects'\u001b[0m\u001b[1;33m,\u001b[0m \u001b[1;32mTrue\u001b[0m\u001b[1;33m)\u001b[0m\u001b[1;33m\u001b[0m\u001b[1;33m\u001b[0m\u001b[0m\n\u001b[1;32m---> 76\u001b[1;33m     \u001b[1;32mreturn\u001b[0m \u001b[0mrequest\u001b[0m\u001b[1;33m(\u001b[0m\u001b[1;34m'get'\u001b[0m\u001b[1;33m,\u001b[0m \u001b[0murl\u001b[0m\u001b[1;33m,\u001b[0m \u001b[0mparams\u001b[0m\u001b[1;33m=\u001b[0m\u001b[0mparams\u001b[0m\u001b[1;33m,\u001b[0m \u001b[1;33m**\u001b[0m\u001b[0mkwargs\u001b[0m\u001b[1;33m)\u001b[0m\u001b[1;33m\u001b[0m\u001b[1;33m\u001b[0m\u001b[0m\n\u001b[0m\u001b[0;32m     77\u001b[0m \u001b[1;33m\u001b[0m\u001b[0m\n\u001b[0;32m     78\u001b[0m \u001b[1;33m\u001b[0m\u001b[0m\n",
      "\u001b[1;32m~\\anaconda3\\lib\\site-packages\\requests\\api.py\u001b[0m in \u001b[0;36mrequest\u001b[1;34m(method, url, **kwargs)\u001b[0m\n\u001b[0;32m     59\u001b[0m     \u001b[1;31m# cases, and look like a memory leak in others.\u001b[0m\u001b[1;33m\u001b[0m\u001b[1;33m\u001b[0m\u001b[1;33m\u001b[0m\u001b[0m\n\u001b[0;32m     60\u001b[0m     \u001b[1;32mwith\u001b[0m \u001b[0msessions\u001b[0m\u001b[1;33m.\u001b[0m\u001b[0mSession\u001b[0m\u001b[1;33m(\u001b[0m\u001b[1;33m)\u001b[0m \u001b[1;32mas\u001b[0m \u001b[0msession\u001b[0m\u001b[1;33m:\u001b[0m\u001b[1;33m\u001b[0m\u001b[1;33m\u001b[0m\u001b[0m\n\u001b[1;32m---> 61\u001b[1;33m         \u001b[1;32mreturn\u001b[0m \u001b[0msession\u001b[0m\u001b[1;33m.\u001b[0m\u001b[0mrequest\u001b[0m\u001b[1;33m(\u001b[0m\u001b[0mmethod\u001b[0m\u001b[1;33m=\u001b[0m\u001b[0mmethod\u001b[0m\u001b[1;33m,\u001b[0m \u001b[0murl\u001b[0m\u001b[1;33m=\u001b[0m\u001b[0murl\u001b[0m\u001b[1;33m,\u001b[0m \u001b[1;33m**\u001b[0m\u001b[0mkwargs\u001b[0m\u001b[1;33m)\u001b[0m\u001b[1;33m\u001b[0m\u001b[1;33m\u001b[0m\u001b[0m\n\u001b[0m\u001b[0;32m     62\u001b[0m \u001b[1;33m\u001b[0m\u001b[0m\n\u001b[0;32m     63\u001b[0m \u001b[1;33m\u001b[0m\u001b[0m\n",
      "\u001b[1;32m~\\anaconda3\\lib\\site-packages\\requests\\sessions.py\u001b[0m in \u001b[0;36mrequest\u001b[1;34m(self, method, url, params, data, headers, cookies, files, auth, timeout, allow_redirects, proxies, hooks, stream, verify, cert, json)\u001b[0m\n\u001b[0;32m    540\u001b[0m         }\n\u001b[0;32m    541\u001b[0m         \u001b[0msend_kwargs\u001b[0m\u001b[1;33m.\u001b[0m\u001b[0mupdate\u001b[0m\u001b[1;33m(\u001b[0m\u001b[0msettings\u001b[0m\u001b[1;33m)\u001b[0m\u001b[1;33m\u001b[0m\u001b[1;33m\u001b[0m\u001b[0m\n\u001b[1;32m--> 542\u001b[1;33m         \u001b[0mresp\u001b[0m \u001b[1;33m=\u001b[0m \u001b[0mself\u001b[0m\u001b[1;33m.\u001b[0m\u001b[0msend\u001b[0m\u001b[1;33m(\u001b[0m\u001b[0mprep\u001b[0m\u001b[1;33m,\u001b[0m \u001b[1;33m**\u001b[0m\u001b[0msend_kwargs\u001b[0m\u001b[1;33m)\u001b[0m\u001b[1;33m\u001b[0m\u001b[1;33m\u001b[0m\u001b[0m\n\u001b[0m\u001b[0;32m    543\u001b[0m \u001b[1;33m\u001b[0m\u001b[0m\n\u001b[0;32m    544\u001b[0m         \u001b[1;32mreturn\u001b[0m \u001b[0mresp\u001b[0m\u001b[1;33m\u001b[0m\u001b[1;33m\u001b[0m\u001b[0m\n",
      "\u001b[1;32m~\\anaconda3\\lib\\site-packages\\requests\\sessions.py\u001b[0m in \u001b[0;36msend\u001b[1;34m(self, request, **kwargs)\u001b[0m\n\u001b[0;32m    653\u001b[0m \u001b[1;33m\u001b[0m\u001b[0m\n\u001b[0;32m    654\u001b[0m         \u001b[1;31m# Send the request\u001b[0m\u001b[1;33m\u001b[0m\u001b[1;33m\u001b[0m\u001b[1;33m\u001b[0m\u001b[0m\n\u001b[1;32m--> 655\u001b[1;33m         \u001b[0mr\u001b[0m \u001b[1;33m=\u001b[0m \u001b[0madapter\u001b[0m\u001b[1;33m.\u001b[0m\u001b[0msend\u001b[0m\u001b[1;33m(\u001b[0m\u001b[0mrequest\u001b[0m\u001b[1;33m,\u001b[0m \u001b[1;33m**\u001b[0m\u001b[0mkwargs\u001b[0m\u001b[1;33m)\u001b[0m\u001b[1;33m\u001b[0m\u001b[1;33m\u001b[0m\u001b[0m\n\u001b[0m\u001b[0;32m    656\u001b[0m \u001b[1;33m\u001b[0m\u001b[0m\n\u001b[0;32m    657\u001b[0m         \u001b[1;31m# Total elapsed time of the request (approximately)\u001b[0m\u001b[1;33m\u001b[0m\u001b[1;33m\u001b[0m\u001b[1;33m\u001b[0m\u001b[0m\n",
      "\u001b[1;32m~\\anaconda3\\lib\\site-packages\\requests\\adapters.py\u001b[0m in \u001b[0;36msend\u001b[1;34m(self, request, stream, timeout, verify, cert, proxies)\u001b[0m\n\u001b[0;32m    437\u001b[0m         \u001b[1;32mtry\u001b[0m\u001b[1;33m:\u001b[0m\u001b[1;33m\u001b[0m\u001b[1;33m\u001b[0m\u001b[0m\n\u001b[0;32m    438\u001b[0m             \u001b[1;32mif\u001b[0m \u001b[1;32mnot\u001b[0m \u001b[0mchunked\u001b[0m\u001b[1;33m:\u001b[0m\u001b[1;33m\u001b[0m\u001b[1;33m\u001b[0m\u001b[0m\n\u001b[1;32m--> 439\u001b[1;33m                 resp = conn.urlopen(\n\u001b[0m\u001b[0;32m    440\u001b[0m                     \u001b[0mmethod\u001b[0m\u001b[1;33m=\u001b[0m\u001b[0mrequest\u001b[0m\u001b[1;33m.\u001b[0m\u001b[0mmethod\u001b[0m\u001b[1;33m,\u001b[0m\u001b[1;33m\u001b[0m\u001b[1;33m\u001b[0m\u001b[0m\n\u001b[0;32m    441\u001b[0m                     \u001b[0murl\u001b[0m\u001b[1;33m=\u001b[0m\u001b[0murl\u001b[0m\u001b[1;33m,\u001b[0m\u001b[1;33m\u001b[0m\u001b[1;33m\u001b[0m\u001b[0m\n",
      "\u001b[1;32m~\\anaconda3\\lib\\site-packages\\urllib3\\connectionpool.py\u001b[0m in \u001b[0;36murlopen\u001b[1;34m(self, method, url, body, headers, retries, redirect, assert_same_host, timeout, pool_timeout, release_conn, chunked, body_pos, **response_kw)\u001b[0m\n\u001b[0;32m    697\u001b[0m \u001b[1;33m\u001b[0m\u001b[0m\n\u001b[0;32m    698\u001b[0m             \u001b[1;31m# Make the request on the httplib connection object.\u001b[0m\u001b[1;33m\u001b[0m\u001b[1;33m\u001b[0m\u001b[1;33m\u001b[0m\u001b[0m\n\u001b[1;32m--> 699\u001b[1;33m             httplib_response = self._make_request(\n\u001b[0m\u001b[0;32m    700\u001b[0m                 \u001b[0mconn\u001b[0m\u001b[1;33m,\u001b[0m\u001b[1;33m\u001b[0m\u001b[1;33m\u001b[0m\u001b[0m\n\u001b[0;32m    701\u001b[0m                 \u001b[0mmethod\u001b[0m\u001b[1;33m,\u001b[0m\u001b[1;33m\u001b[0m\u001b[1;33m\u001b[0m\u001b[0m\n",
      "\u001b[1;32m~\\anaconda3\\lib\\site-packages\\urllib3\\connectionpool.py\u001b[0m in \u001b[0;36m_make_request\u001b[1;34m(self, conn, method, url, timeout, chunked, **httplib_request_kw)\u001b[0m\n\u001b[0;32m    443\u001b[0m                     \u001b[1;31m# Python 3 (including for exceptions like SystemExit).\u001b[0m\u001b[1;33m\u001b[0m\u001b[1;33m\u001b[0m\u001b[1;33m\u001b[0m\u001b[0m\n\u001b[0;32m    444\u001b[0m                     \u001b[1;31m# Otherwise it looks like a bug in the code.\u001b[0m\u001b[1;33m\u001b[0m\u001b[1;33m\u001b[0m\u001b[1;33m\u001b[0m\u001b[0m\n\u001b[1;32m--> 445\u001b[1;33m                     \u001b[0msix\u001b[0m\u001b[1;33m.\u001b[0m\u001b[0mraise_from\u001b[0m\u001b[1;33m(\u001b[0m\u001b[0me\u001b[0m\u001b[1;33m,\u001b[0m \u001b[1;32mNone\u001b[0m\u001b[1;33m)\u001b[0m\u001b[1;33m\u001b[0m\u001b[1;33m\u001b[0m\u001b[0m\n\u001b[0m\u001b[0;32m    446\u001b[0m         \u001b[1;32mexcept\u001b[0m \u001b[1;33m(\u001b[0m\u001b[0mSocketTimeout\u001b[0m\u001b[1;33m,\u001b[0m \u001b[0mBaseSSLError\u001b[0m\u001b[1;33m,\u001b[0m \u001b[0mSocketError\u001b[0m\u001b[1;33m)\u001b[0m \u001b[1;32mas\u001b[0m \u001b[0me\u001b[0m\u001b[1;33m:\u001b[0m\u001b[1;33m\u001b[0m\u001b[1;33m\u001b[0m\u001b[0m\n\u001b[0;32m    447\u001b[0m             \u001b[0mself\u001b[0m\u001b[1;33m.\u001b[0m\u001b[0m_raise_timeout\u001b[0m\u001b[1;33m(\u001b[0m\u001b[0merr\u001b[0m\u001b[1;33m=\u001b[0m\u001b[0me\u001b[0m\u001b[1;33m,\u001b[0m \u001b[0murl\u001b[0m\u001b[1;33m=\u001b[0m\u001b[0murl\u001b[0m\u001b[1;33m,\u001b[0m \u001b[0mtimeout_value\u001b[0m\u001b[1;33m=\u001b[0m\u001b[0mread_timeout\u001b[0m\u001b[1;33m)\u001b[0m\u001b[1;33m\u001b[0m\u001b[1;33m\u001b[0m\u001b[0m\n",
      "\u001b[1;32m~\\anaconda3\\lib\\site-packages\\urllib3\\packages\\six.py\u001b[0m in \u001b[0;36mraise_from\u001b[1;34m(value, from_value)\u001b[0m\n",
      "\u001b[1;32m~\\anaconda3\\lib\\site-packages\\urllib3\\connectionpool.py\u001b[0m in \u001b[0;36m_make_request\u001b[1;34m(self, conn, method, url, timeout, chunked, **httplib_request_kw)\u001b[0m\n\u001b[0;32m    438\u001b[0m                 \u001b[1;31m# Python 3\u001b[0m\u001b[1;33m\u001b[0m\u001b[1;33m\u001b[0m\u001b[1;33m\u001b[0m\u001b[0m\n\u001b[0;32m    439\u001b[0m                 \u001b[1;32mtry\u001b[0m\u001b[1;33m:\u001b[0m\u001b[1;33m\u001b[0m\u001b[1;33m\u001b[0m\u001b[0m\n\u001b[1;32m--> 440\u001b[1;33m                     \u001b[0mhttplib_response\u001b[0m \u001b[1;33m=\u001b[0m \u001b[0mconn\u001b[0m\u001b[1;33m.\u001b[0m\u001b[0mgetresponse\u001b[0m\u001b[1;33m(\u001b[0m\u001b[1;33m)\u001b[0m\u001b[1;33m\u001b[0m\u001b[1;33m\u001b[0m\u001b[0m\n\u001b[0m\u001b[0;32m    441\u001b[0m                 \u001b[1;32mexcept\u001b[0m \u001b[0mBaseException\u001b[0m \u001b[1;32mas\u001b[0m \u001b[0me\u001b[0m\u001b[1;33m:\u001b[0m\u001b[1;33m\u001b[0m\u001b[1;33m\u001b[0m\u001b[0m\n\u001b[0;32m    442\u001b[0m                     \u001b[1;31m# Remove the TypeError from the exception chain in\u001b[0m\u001b[1;33m\u001b[0m\u001b[1;33m\u001b[0m\u001b[1;33m\u001b[0m\u001b[0m\n",
      "\u001b[1;32m~\\anaconda3\\lib\\http\\client.py\u001b[0m in \u001b[0;36mgetresponse\u001b[1;34m(self)\u001b[0m\n\u001b[0;32m   1345\u001b[0m         \u001b[1;32mtry\u001b[0m\u001b[1;33m:\u001b[0m\u001b[1;33m\u001b[0m\u001b[1;33m\u001b[0m\u001b[0m\n\u001b[0;32m   1346\u001b[0m             \u001b[1;32mtry\u001b[0m\u001b[1;33m:\u001b[0m\u001b[1;33m\u001b[0m\u001b[1;33m\u001b[0m\u001b[0m\n\u001b[1;32m-> 1347\u001b[1;33m                 \u001b[0mresponse\u001b[0m\u001b[1;33m.\u001b[0m\u001b[0mbegin\u001b[0m\u001b[1;33m(\u001b[0m\u001b[1;33m)\u001b[0m\u001b[1;33m\u001b[0m\u001b[1;33m\u001b[0m\u001b[0m\n\u001b[0m\u001b[0;32m   1348\u001b[0m             \u001b[1;32mexcept\u001b[0m \u001b[0mConnectionError\u001b[0m\u001b[1;33m:\u001b[0m\u001b[1;33m\u001b[0m\u001b[1;33m\u001b[0m\u001b[0m\n\u001b[0;32m   1349\u001b[0m                 \u001b[0mself\u001b[0m\u001b[1;33m.\u001b[0m\u001b[0mclose\u001b[0m\u001b[1;33m(\u001b[0m\u001b[1;33m)\u001b[0m\u001b[1;33m\u001b[0m\u001b[1;33m\u001b[0m\u001b[0m\n",
      "\u001b[1;32m~\\anaconda3\\lib\\http\\client.py\u001b[0m in \u001b[0;36mbegin\u001b[1;34m(self)\u001b[0m\n\u001b[0;32m    305\u001b[0m         \u001b[1;31m# read until we get a non-100 response\u001b[0m\u001b[1;33m\u001b[0m\u001b[1;33m\u001b[0m\u001b[1;33m\u001b[0m\u001b[0m\n\u001b[0;32m    306\u001b[0m         \u001b[1;32mwhile\u001b[0m \u001b[1;32mTrue\u001b[0m\u001b[1;33m:\u001b[0m\u001b[1;33m\u001b[0m\u001b[1;33m\u001b[0m\u001b[0m\n\u001b[1;32m--> 307\u001b[1;33m             \u001b[0mversion\u001b[0m\u001b[1;33m,\u001b[0m \u001b[0mstatus\u001b[0m\u001b[1;33m,\u001b[0m \u001b[0mreason\u001b[0m \u001b[1;33m=\u001b[0m \u001b[0mself\u001b[0m\u001b[1;33m.\u001b[0m\u001b[0m_read_status\u001b[0m\u001b[1;33m(\u001b[0m\u001b[1;33m)\u001b[0m\u001b[1;33m\u001b[0m\u001b[1;33m\u001b[0m\u001b[0m\n\u001b[0m\u001b[0;32m    308\u001b[0m             \u001b[1;32mif\u001b[0m \u001b[0mstatus\u001b[0m \u001b[1;33m!=\u001b[0m \u001b[0mCONTINUE\u001b[0m\u001b[1;33m:\u001b[0m\u001b[1;33m\u001b[0m\u001b[1;33m\u001b[0m\u001b[0m\n\u001b[0;32m    309\u001b[0m                 \u001b[1;32mbreak\u001b[0m\u001b[1;33m\u001b[0m\u001b[1;33m\u001b[0m\u001b[0m\n",
      "\u001b[1;32m~\\anaconda3\\lib\\http\\client.py\u001b[0m in \u001b[0;36m_read_status\u001b[1;34m(self)\u001b[0m\n\u001b[0;32m    266\u001b[0m \u001b[1;33m\u001b[0m\u001b[0m\n\u001b[0;32m    267\u001b[0m     \u001b[1;32mdef\u001b[0m \u001b[0m_read_status\u001b[0m\u001b[1;33m(\u001b[0m\u001b[0mself\u001b[0m\u001b[1;33m)\u001b[0m\u001b[1;33m:\u001b[0m\u001b[1;33m\u001b[0m\u001b[1;33m\u001b[0m\u001b[0m\n\u001b[1;32m--> 268\u001b[1;33m         \u001b[0mline\u001b[0m \u001b[1;33m=\u001b[0m \u001b[0mstr\u001b[0m\u001b[1;33m(\u001b[0m\u001b[0mself\u001b[0m\u001b[1;33m.\u001b[0m\u001b[0mfp\u001b[0m\u001b[1;33m.\u001b[0m\u001b[0mreadline\u001b[0m\u001b[1;33m(\u001b[0m\u001b[0m_MAXLINE\u001b[0m \u001b[1;33m+\u001b[0m \u001b[1;36m1\u001b[0m\u001b[1;33m)\u001b[0m\u001b[1;33m,\u001b[0m \u001b[1;34m\"iso-8859-1\"\u001b[0m\u001b[1;33m)\u001b[0m\u001b[1;33m\u001b[0m\u001b[1;33m\u001b[0m\u001b[0m\n\u001b[0m\u001b[0;32m    269\u001b[0m         \u001b[1;32mif\u001b[0m \u001b[0mlen\u001b[0m\u001b[1;33m(\u001b[0m\u001b[0mline\u001b[0m\u001b[1;33m)\u001b[0m \u001b[1;33m>\u001b[0m \u001b[0m_MAXLINE\u001b[0m\u001b[1;33m:\u001b[0m\u001b[1;33m\u001b[0m\u001b[1;33m\u001b[0m\u001b[0m\n\u001b[0;32m    270\u001b[0m             \u001b[1;32mraise\u001b[0m \u001b[0mLineTooLong\u001b[0m\u001b[1;33m(\u001b[0m\u001b[1;34m\"status line\"\u001b[0m\u001b[1;33m)\u001b[0m\u001b[1;33m\u001b[0m\u001b[1;33m\u001b[0m\u001b[0m\n",
      "\u001b[1;32m~\\anaconda3\\lib\\socket.py\u001b[0m in \u001b[0;36mreadinto\u001b[1;34m(self, b)\u001b[0m\n\u001b[0;32m    667\u001b[0m         \u001b[1;32mwhile\u001b[0m \u001b[1;32mTrue\u001b[0m\u001b[1;33m:\u001b[0m\u001b[1;33m\u001b[0m\u001b[1;33m\u001b[0m\u001b[0m\n\u001b[0;32m    668\u001b[0m             \u001b[1;32mtry\u001b[0m\u001b[1;33m:\u001b[0m\u001b[1;33m\u001b[0m\u001b[1;33m\u001b[0m\u001b[0m\n\u001b[1;32m--> 669\u001b[1;33m                 \u001b[1;32mreturn\u001b[0m \u001b[0mself\u001b[0m\u001b[1;33m.\u001b[0m\u001b[0m_sock\u001b[0m\u001b[1;33m.\u001b[0m\u001b[0mrecv_into\u001b[0m\u001b[1;33m(\u001b[0m\u001b[0mb\u001b[0m\u001b[1;33m)\u001b[0m\u001b[1;33m\u001b[0m\u001b[1;33m\u001b[0m\u001b[0m\n\u001b[0m\u001b[0;32m    670\u001b[0m             \u001b[1;32mexcept\u001b[0m \u001b[0mtimeout\u001b[0m\u001b[1;33m:\u001b[0m\u001b[1;33m\u001b[0m\u001b[1;33m\u001b[0m\u001b[0m\n\u001b[0;32m    671\u001b[0m                 \u001b[0mself\u001b[0m\u001b[1;33m.\u001b[0m\u001b[0m_timeout_occurred\u001b[0m \u001b[1;33m=\u001b[0m \u001b[1;32mTrue\u001b[0m\u001b[1;33m\u001b[0m\u001b[1;33m\u001b[0m\u001b[0m\n",
      "\u001b[1;32m~\\anaconda3\\lib\\ssl.py\u001b[0m in \u001b[0;36mrecv_into\u001b[1;34m(self, buffer, nbytes, flags)\u001b[0m\n\u001b[0;32m   1239\u001b[0m                   \u001b[1;34m\"non-zero flags not allowed in calls to recv_into() on %s\"\u001b[0m \u001b[1;33m%\u001b[0m\u001b[1;33m\u001b[0m\u001b[1;33m\u001b[0m\u001b[0m\n\u001b[0;32m   1240\u001b[0m                   self.__class__)\n\u001b[1;32m-> 1241\u001b[1;33m             \u001b[1;32mreturn\u001b[0m \u001b[0mself\u001b[0m\u001b[1;33m.\u001b[0m\u001b[0mread\u001b[0m\u001b[1;33m(\u001b[0m\u001b[0mnbytes\u001b[0m\u001b[1;33m,\u001b[0m \u001b[0mbuffer\u001b[0m\u001b[1;33m)\u001b[0m\u001b[1;33m\u001b[0m\u001b[1;33m\u001b[0m\u001b[0m\n\u001b[0m\u001b[0;32m   1242\u001b[0m         \u001b[1;32melse\u001b[0m\u001b[1;33m:\u001b[0m\u001b[1;33m\u001b[0m\u001b[1;33m\u001b[0m\u001b[0m\n\u001b[0;32m   1243\u001b[0m             \u001b[1;32mreturn\u001b[0m \u001b[0msuper\u001b[0m\u001b[1;33m(\u001b[0m\u001b[1;33m)\u001b[0m\u001b[1;33m.\u001b[0m\u001b[0mrecv_into\u001b[0m\u001b[1;33m(\u001b[0m\u001b[0mbuffer\u001b[0m\u001b[1;33m,\u001b[0m \u001b[0mnbytes\u001b[0m\u001b[1;33m,\u001b[0m \u001b[0mflags\u001b[0m\u001b[1;33m)\u001b[0m\u001b[1;33m\u001b[0m\u001b[1;33m\u001b[0m\u001b[0m\n",
      "\u001b[1;32m~\\anaconda3\\lib\\ssl.py\u001b[0m in \u001b[0;36mread\u001b[1;34m(self, len, buffer)\u001b[0m\n\u001b[0;32m   1097\u001b[0m         \u001b[1;32mtry\u001b[0m\u001b[1;33m:\u001b[0m\u001b[1;33m\u001b[0m\u001b[1;33m\u001b[0m\u001b[0m\n\u001b[0;32m   1098\u001b[0m             \u001b[1;32mif\u001b[0m \u001b[0mbuffer\u001b[0m \u001b[1;32mis\u001b[0m \u001b[1;32mnot\u001b[0m \u001b[1;32mNone\u001b[0m\u001b[1;33m:\u001b[0m\u001b[1;33m\u001b[0m\u001b[1;33m\u001b[0m\u001b[0m\n\u001b[1;32m-> 1099\u001b[1;33m                 \u001b[1;32mreturn\u001b[0m \u001b[0mself\u001b[0m\u001b[1;33m.\u001b[0m\u001b[0m_sslobj\u001b[0m\u001b[1;33m.\u001b[0m\u001b[0mread\u001b[0m\u001b[1;33m(\u001b[0m\u001b[0mlen\u001b[0m\u001b[1;33m,\u001b[0m \u001b[0mbuffer\u001b[0m\u001b[1;33m)\u001b[0m\u001b[1;33m\u001b[0m\u001b[1;33m\u001b[0m\u001b[0m\n\u001b[0m\u001b[0;32m   1100\u001b[0m             \u001b[1;32melse\u001b[0m\u001b[1;33m:\u001b[0m\u001b[1;33m\u001b[0m\u001b[1;33m\u001b[0m\u001b[0m\n\u001b[0;32m   1101\u001b[0m                 \u001b[1;32mreturn\u001b[0m \u001b[0mself\u001b[0m\u001b[1;33m.\u001b[0m\u001b[0m_sslobj\u001b[0m\u001b[1;33m.\u001b[0m\u001b[0mread\u001b[0m\u001b[1;33m(\u001b[0m\u001b[0mlen\u001b[0m\u001b[1;33m)\u001b[0m\u001b[1;33m\u001b[0m\u001b[1;33m\u001b[0m\u001b[0m\n",
      "\u001b[1;31mKeyboardInterrupt\u001b[0m: "
     ]
    }
   ],
   "source": [
    "website = 'https://euraxess.ec.europa.eu'\n",
    "lst = []\n",
    "for page in tqdm(range(0, int(max_pages))):\n",
    "    page_link = main_link + '?page=' + str(page) +'/'\n",
    "    print(page_link)\n",
    "    user_agent = {'User-agent': ''}\n",
    "    response = requests.get(page_link, timeout=50, headers= user_agent)\n",
    "    soup = BeautifulSoup(response.content, 'html.parser')\n",
    "    content = soup.find('div', class_='view-content')\n",
    "    ads = content.findAll('div', class_='col-sm-12 col-md-6')\n",
    "    for ad in ads:\n",
    "        lst.append([website + ad.find('a').get('href'), ad.find('a').text])"
   ]
  },
  {
   "cell_type": "code",
   "execution_count": 15,
   "id": "47c9548d",
   "metadata": {},
   "outputs": [
    {
     "data": {
      "text/plain": [
       "[['https://euraxess.ec.europa.eu/jobs/694150',\n",
       "  'Junior\\xa0Fellow - 2D Materials and Technology'],\n",
       " ['https://euraxess.ec.europa.eu/jobs/694148',\n",
       "  'Several PhD Positions in Life Sciences (65% TVL 13) (# of pos: 9)'],\n",
       " ['https://euraxess.ec.europa.eu/jobs/694146', 'IT Helpdesk Technician'],\n",
       " ['https://euraxess.ec.europa.eu/jobs/694143',\n",
       "  'Call for applications for election of one associate into the associate position of a nominal...'],\n",
       " ['https://euraxess.ec.europa.eu/jobs/694140',\n",
       "  'Call for applications for election of one lecturer into the teaching position of a nominal...']]"
      ]
     },
     "execution_count": 15,
     "metadata": {},
     "output_type": "execute_result"
    }
   ],
   "source": [
    "lst[:5]\n"
   ]
  },
  {
   "cell_type": "code",
   "execution_count": null,
   "id": "b7249528",
   "metadata": {},
   "outputs": [],
   "source": []
  },
  {
   "cell_type": "code",
   "execution_count": 16,
   "id": "0fcbe537",
   "metadata": {},
   "outputs": [
    {
     "name": "stdout",
     "output_type": "stream",
     "text": [
      "<Response [200]>\n"
     ]
    }
   ],
   "source": [
    "link = 'https://euraxess.ec.europa.eu/jobs/692588'\n",
    "headers={'User-Agent': ''}\n",
    "page = requests.get(link,timeout=15, headers= headers)\n",
    "soup = BeautifulSoup(page.content, 'html.parser')\n",
    "print(page)"
   ]
  },
  {
   "cell_type": "code",
   "execution_count": 17,
   "id": "2001256e",
   "metadata": {},
   "outputs": [],
   "source": [
    "row_a = soup.find('div', class_= 'col-xs-12 col-md-7')\n",
    "\n",
    "organization = row_a.find('div', class_ = 'col-xs-12 col-sm-7 value field-company-institute inline').text.strip()\n",
    "research_field = row_a.find('div', class_ = 'col-xs-12 col-sm-7 value field-research-field inline').text.strip()\n",
    "research_profile = row_a.find('div', class_ = 'col-xs-12 col-sm-7 value field-research-profile inline').text.strip()\n",
    "deadline = row_a.find('div', class_ = 'col-xs-12 col-sm-7 value field-application-deadline inline').text.strip()"
   ]
  },
  {
   "cell_type": "code",
   "execution_count": 18,
   "id": "e3f2f89b",
   "metadata": {},
   "outputs": [
    {
     "data": {
      "text/plain": [
       "'Institute of Neurosciences'"
      ]
     },
     "execution_count": 18,
     "metadata": {},
     "output_type": "execute_result"
    }
   ],
   "source": [
    "organization\n"
   ]
  },
  {
   "cell_type": "code",
   "execution_count": 19,
   "id": "12eaec31",
   "metadata": {},
   "outputs": [],
   "source": [
    "row_b = soup.find('div', class_= 'col-xs-12 col-md-5')\n"
   ]
  },
  {
   "cell_type": "code",
   "execution_count": 20,
   "id": "5c3608e4",
   "metadata": {},
   "outputs": [
    {
     "ename": "NameError",
     "evalue": "name 'location' is not defined",
     "output_type": "error",
     "traceback": [
      "\u001b[1;31m---------------------------------------------------------------------------\u001b[0m",
      "\u001b[1;31mNameError\u001b[0m                                 Traceback (most recent call last)",
      "\u001b[1;32m<ipython-input-20-3093cc981a1b>\u001b[0m in \u001b[0;36m<module>\u001b[1;34m\u001b[0m\n\u001b[1;32m----> 1\u001b[1;33m \u001b[0mlocation\u001b[0m\u001b[1;33m\u001b[0m\u001b[1;33m\u001b[0m\u001b[0m\n\u001b[0m",
      "\u001b[1;31mNameError\u001b[0m: name 'location' is not defined"
     ]
    }
   ],
   "source": [
    "location"
   ]
  },
  {
   "cell_type": "code",
   "execution_count": null,
   "id": "3d49f646",
   "metadata": {},
   "outputs": [],
   "source": [
    "location = row_b.find('div', class_= 'col-xs-12 col-sm-7 value field-country inline').text.strip()"
   ]
  },
  {
   "cell_type": "code",
   "execution_count": null,
   "id": "5d986325",
   "metadata": {},
   "outputs": [],
   "source": [
    "type_of_contract = row_b.find('div', class_= 'col-xs-12 col-sm-7 value field-type-of-contract inline').text.strip()"
   ]
  },
  {
   "cell_type": "code",
   "execution_count": null,
   "id": "9922c223",
   "metadata": {},
   "outputs": [],
   "source": [
    "job_status = row_b.find('div', class_= 'col-xs-12 col-sm-7 value field-job-status inline').text.strip()"
   ]
  },
  {
   "cell_type": "code",
   "execution_count": null,
   "id": "321fc3c2",
   "metadata": {},
   "outputs": [],
   "source": [
    "hours_per_week = row_b.find('div', class_= 'col-xs-12 col-sm-7 value field-hours-per-week inline').text.strip()"
   ]
  },
  {
   "cell_type": "code",
   "execution_count": null,
   "id": "99c2fe62",
   "metadata": {},
   "outputs": [],
   "source": [
    "link = 'https://euraxess.ec.europa.eu/jobs/692570'\n",
    "headers={'User-Agent': ''}\n",
    "page = requests.get(link,timeout=15, headers= headers)\n",
    "soup = BeautifulSoup(page.content, 'html.parser')\n",
    "print(page)"
   ]
  },
  {
   "cell_type": "code",
   "execution_count": null,
   "id": "d651084d",
   "metadata": {},
   "outputs": [],
   "source": [
    "hours_per_week"
   ]
  },
  {
   "cell_type": "code",
   "execution_count": null,
   "id": "820fc849",
   "metadata": {},
   "outputs": [],
   "source": [
    "offer_starting_date = row_b.find('div', class_= 'col-xs-12 col-sm-7 value field-offer-starting-date inline').text.strip()\n"
   ]
  },
  {
   "cell_type": "raw",
   "id": "e8d63d63",
   "metadata": {},
   "source": [
    "reference_number = row_b.find('div', class_= \"col-xs-12 col-sm-7 value field-reference-number inline\").text.strip()"
   ]
  },
  {
   "cell_type": "code",
   "execution_count": 21,
   "id": "4062fda2",
   "metadata": {},
   "outputs": [],
   "source": [
    "#akolou8ei h perigrafh ths 8eshs"
   ]
  },
  {
   "cell_type": "code",
   "execution_count": 22,
   "id": "e3e1c719",
   "metadata": {},
   "outputs": [],
   "source": [
    "offer_description = soup.find('div', class_= \"longtext field-body\").text.strip()"
   ]
  },
  {
   "cell_type": "code",
   "execution_count": 23,
   "id": "27b3d123",
   "metadata": {},
   "outputs": [
    {
     "data": {
      "text/plain": [
       "'PhD CANDIDATE INTERESTED IN APPLYING FOR AN INPhINIT FELLOWSHIP IN NEUROSCIENCES\\nBiomimetic Strategies for Driving Neural Development and Regenerationand Human Modeling of Neurological Diseases Group\\nThe doctoral fellowship programme INPhINIT “La Caixa” is devoted to attracting talented Early-Stage Researchers—of any nationality—who wish to pursue doctoral studies. University of Barcelona- a leading European University- allows you to work in a first class research environment while benefitting from an attractive salary to cover living, travel and family costs.\\nGroup and project information\\nApplicants will be integrated into the research groups of “Biomimetic strategies for driving neural development and regeneration (NDlab)” and “Human Modeling of Neurological Diseases Group” (P.I. Soledad Alcántara and Alberto Ortega).\\nThe broad objective of the project is to decipher the effect of metabolic and microenvironment perturbations during the human cerebral cortex development and the implement of biomimetic strategies for driving neural development and regeneration. We employ biochemical coupled to high-throughput approaches to identify proteomic changes in the fetal and adult human and mouse brain during development. By identifying changes in these scenarios, we aim to elucidate evolutive-, age- and disease-dependent changes in the cerebral cortex and how they can modulate the generation and functional maturation of neural cells. We next aim to recreate these key microenvironment changes in vitro by implementing them into new biomaterial based platforms, in order to improve human stem cell-based models of development and disease, which have an enormous potential for the study of multiple neurological disorders and the design of new therapeutic strategies.\\nWe are particularly interested in MeCP2 related disorders Rett syndrome (RTT, OMIM #312750) and MECP2 duplication syndrome (MDS, OMIM #300260), caused by loss of function mutations and gain of MeCP2 function respectively. Both severe disorders are dynamic, progress over several stages and share some clinical characteristics including severe intellectual disability, loss of speech, hand stereotypies, vasomotor deficits, and seizures.\\nThe lab utilizes both rodent animal models as well as stem cells and direct reprogramming methods to study different neural subtypes of the human central nervous system along with proteomic and functional physiological assays. The candidate will join a dynamic team that close interact with other developmental biology, stem cell biology, electrophysiology, computational and biotechnology labs at national and international institutions.\\nFunctions and tasks\\nWe are seeking a candidate in possession or be completing a Master or be a Graduate in Health Science related degrees including Biomedicine, Biomedical Sciences, Biology, Pharmacology as well as Biotechnology, Biomedical Engineering, Biochemistry or Bioinformatics.\\nStudents will actively participate in all the aspects of the proposed research along with collaborators in following fields of expertise: proteomics, metabolomics, multiple cell culture systems including stem cell technologies, developmental mouse models, molecular biology, histology, confocal microscopy, bioinformatics and electrophysiology, what will provide the students of a multidisciplinary training during their tenure at the lab.\\nStudents will be also encouraged to stablish new collaborations that allow to bring new research tools to the lab. To strength the stablished collaborations, students will apply for short tenure fellowships (such as the ones offered by Ministerio de Educación y Formación Profesional) that will also allow them to develop parts of their projects, in our collaborators’ laboratories both at national (e.g. IMIM, IBEC, UPC…) and international institutions (e.g. Northwestern University or UIC, USA).\\nExpertise in any of the following approaches is desirable: cell culture techniques, bioinformatics, neurobiology.\\nOffer Requirements\\n• Experience: At the call deadline (February 2022), applicants must be in the first four years (full-time equivalent research experience) of their research careers and not yet have been awarded a doctoral degree.\\n• Studies pursued: At the time of recruitment (Nov 2022), candidates must comply with one of the following options:\\no To have completed the studies that lead to an official university degree adapted to the European Higher Education Area awarding 300 ECTS credits, of which at least 60 ECTS credits must correspond to master level.\\no To have completed a degree in a university not adapted to the European Higher Education Area that gives access to doctoral studies. The verification of an equivalent level of studies to the ones mentioned above will be made by the university when the admission procedure starts.\\n• Level of English: Candidates must have a demonstrable level of English (B2 or higher).\\n• Other skills: The candidate should have good interpersonal skills, be able to carry out inter-dependent research activities within multiple and international teams, enjoy challenging experimental work and be willing to develop new projects.\\nWorking conditions\\n- Duration: 3-year contract under the Spanish labour legislation in force, respecting health and safety, and social security provisions in a stimulating research training environment, with access to appropriate equipment, facilities and opportunities.\\n- Budget: The maximum total payment amount will be €122,592 + Optional prize of €7,500\\nSubmission\\nPlease submit your application (CV and letter of interest) to: Soledad Alcántara (salcantara@ub.edu) and Alberto Ortega (jalbertoortega@ub.edu).\\nSupport for applicants\\nThe Institute of Neurosciences offers support to applicants (eligibility check, info sessions, feedback on the draft proposal) and has recently launched a Mentoring programme (subject to availability).\\nFurther information Call\\nDeadline: 22 October 202'"
      ]
     },
     "execution_count": 23,
     "metadata": {},
     "output_type": "execute_result"
    }
   ],
   "source": [
    "offer_description"
   ]
  },
  {
   "cell_type": "code",
   "execution_count": 24,
   "id": "ecde718a",
   "metadata": {},
   "outputs": [],
   "source": [
    "additional_information = soup.find('div', class_= 'col-xs-12 field-additional-information')"
   ]
  },
  {
   "cell_type": "code",
   "execution_count": 25,
   "id": "d13fc090",
   "metadata": {},
   "outputs": [],
   "source": [
    "additional_information"
   ]
  },
  {
   "cell_type": "code",
   "execution_count": 26,
   "id": "d73baa66",
   "metadata": {},
   "outputs": [],
   "source": [
    "requirements = soup.find('div', class_= 'col-xs-12 field-offer-requirements')"
   ]
  },
  {
   "cell_type": "code",
   "execution_count": 27,
   "id": "2d0b23e8",
   "metadata": {},
   "outputs": [
    {
     "data": {
      "text/plain": [
       "<div class=\"value field-company-institute\">\n",
       "      Institute of Neurosciences    </div>"
      ]
     },
     "execution_count": 27,
     "metadata": {},
     "output_type": "execute_result"
    }
   ],
   "source": [
    "soup.find('div', class_= 'value field-company-institute')"
   ]
  },
  {
   "cell_type": "code",
   "execution_count": 28,
   "id": "32513d89",
   "metadata": {},
   "outputs": [
    {
     "data": {
      "text/plain": [
       "<div class=\"value field-company-institute\">\n",
       "      Institute of Neurosciences    </div>"
      ]
     },
     "execution_count": 28,
     "metadata": {},
     "output_type": "execute_result"
    }
   ],
   "source": [
    "soup.find('div', class_= 'value field-company-institute')"
   ]
  },
  {
   "cell_type": "code",
   "execution_count": 29,
   "id": "36b43d11",
   "metadata": {},
   "outputs": [
    {
     "data": {
      "text/html": [
       "<div>\n",
       "<style scoped>\n",
       "    .dataframe tbody tr th:only-of-type {\n",
       "        vertical-align: middle;\n",
       "    }\n",
       "\n",
       "    .dataframe tbody tr th {\n",
       "        vertical-align: top;\n",
       "    }\n",
       "\n",
       "    .dataframe thead th {\n",
       "        text-align: right;\n",
       "    }\n",
       "</style>\n",
       "<table border=\"1\" class=\"dataframe\">\n",
       "  <thead>\n",
       "    <tr style=\"text-align: right;\">\n",
       "      <th></th>\n",
       "      <th>job_title</th>\n",
       "      <th>job_link</th>\n",
       "      <th>organization</th>\n",
       "      <th>research_field</th>\n",
       "      <th>research_profile</th>\n",
       "      <th>deadline</th>\n",
       "      <th>location</th>\n",
       "      <th>type_of_contract</th>\n",
       "      <th>job_status</th>\n",
       "      <th>hours_per_week</th>\n",
       "      <th>reference_number</th>\n",
       "      <th>offer_starting_date</th>\n",
       "      <th>offer_description</th>\n",
       "      <th>additional_information</th>\n",
       "      <th>requirements</th>\n",
       "    </tr>\n",
       "  </thead>\n",
       "  <tbody>\n",
       "  </tbody>\n",
       "</table>\n",
       "</div>"
      ],
      "text/plain": [
       "Empty DataFrame\n",
       "Columns: [job_title, job_link, organization, research_field, research_profile, deadline, location, type_of_contract, job_status, hours_per_week, reference_number, offer_starting_date, offer_description, additional_information, requirements]\n",
       "Index: []"
      ]
     },
     "execution_count": 29,
     "metadata": {},
     "output_type": "execute_result"
    }
   ],
   "source": [
    "cols = [\n",
    "    'job_title', 'job_link', 'organization', 'research_field', 'research_profile', 'deadline', 'location', 'type_of_contract',\n",
    "    'job_status', 'hours_per_week', 'reference_number', 'offer_starting_date', 'offer_description', 'additional_information', 'requirements'\n",
    "]\n",
    "df = pd.DataFrame(columns=cols)\n",
    "df"
   ]
  },
  {
   "cell_type": "code",
   "execution_count": null,
   "id": "eec56540",
   "metadata": {},
   "outputs": [
    {
     "name": "stderr",
     "output_type": "stream",
     "text": [
      "<ipython-input-43-f8176aec64e9>:1: TqdmDeprecationWarning: This function will be removed in tqdm==5.0.0\n",
      "Please use `tqdm.notebook.tqdm` instead of `tqdm.tqdm_notebook`\n",
      "  for link in tqdm(lst):\n"
     ]
    },
    {
     "data": {
      "application/vnd.jupyter.widget-view+json": {
       "model_id": "fc3a793623b349d29649577e865b918b",
       "version_major": 2,
       "version_minor": 0
      },
      "text/plain": [
       "  0%|          | 0/390 [00:00<?, ?it/s]"
      ]
     },
     "metadata": {},
     "output_type": "display_data"
    },
    {
     "name": "stdout",
     "output_type": "stream",
     "text": [
      "Available\n",
      "Available\n",
      "Available\n",
      "Available\n",
      "Available\n",
      "Available\n",
      "Available\n"
     ]
    }
   ],
   "source": [
    "for link in tqdm(lst):\n",
    "    jobs_check = df.job_title.isin([link[1]]).any()\n",
    "    websites_check = df.job_link.isin([link[0]]).any()\n",
    "\n",
    "    if jobs_check and websites_check:\n",
    "        i = df.job_title.isin([link[1]]) & df.job_link.isin([link[0]])\n",
    "        df.loc[i, 'date'] = datetime.now()\n",
    "        print('Available')\n",
    "    else:\n",
    "        \n",
    "        response = requests.get(link[0], timeout=50, headers= user_agent)\n",
    "        if response.status_code == 200:\n",
    "            soup = BeautifulSoup(response.content, 'html.parser')\n",
    "            try:\n",
    "                organization = row_a.find('div', class_ = 'col-xs-12 col-sm-7 value field-company-institute inline').text.strip()\n",
    "            except:\n",
    "                organization = np.nan\n",
    "            try:\n",
    "                research_field = row_a.find('div', class_ = 'col-xs-12 col-sm-7 value field-research-field inline').text.strip()\n",
    "\n",
    "            except:\n",
    "                research_field = np.nan\n",
    "            try:\n",
    "                research_profile = row_a.find('div', class_ = 'col-xs-12 col-sm-7 value field-research-profile inline').text.strip()\n",
    "            except:\n",
    "                research_profile = np.nan\n",
    "            try:\n",
    "                deadline = row_a.find('div', class_ = 'col-xs-12 col-sm-7 value field-application-deadline inline').text.strip()\n",
    "            except:\n",
    "                deadline = np.nan\n",
    "            try:\n",
    "                location = soup.find('div', class_= 'col-xs-12 col-sm-7 value field-country inline').text.strip()\n",
    "            except:\n",
    "                location = np.nan\n",
    "            try:\n",
    "                type_of_contract = soup.find('div', class_= 'col-xs-12 col-sm-7 value field-type-of-contract inline').text.strip()\n",
    "            except:\n",
    "                type_of_contract = np.nan\n",
    "            try:\n",
    "                job_status = soup.find('div', class_= 'col-xs-12 col-sm-7 value field-job-status inline').text.strip()\n",
    "            except:\n",
    "                job_status = np.nan\n",
    "            try:\n",
    "                hours_per_week = soup.find('div', class_= 'col-xs-12 col-sm-7 value field-hours-per-week inline').text.strip()\n",
    "            except:\n",
    "                hours_per_week = np.nan\n",
    "            try:\n",
    "                offer_starting_date = soup.find('div', class_= 'col-xs-12 col-sm-7 value field-offer-starting-date inline').text.strip()\n",
    "\n",
    "            except:\n",
    "                offer_starting_date = np.nan\n",
    "            try:\n",
    "                reference_number = soup.find('div', class_= 'col-xs-12 col-sm-7 value field-reference-number inline').text.strip()\n",
    "            except:\n",
    "                reference_number = np.nan\n",
    "            try:\n",
    "                offer_description = soup.find('div', class_= \"longtext field-body\").text.strip()\n",
    "            except:\n",
    "                offer_description = np.nan\n",
    "            try:\n",
    "                additional_information = soup.find('div', class_= 'col-xs-12 field-additional-information')\n",
    "            except:\n",
    "                additional_information = np.nan\n",
    "            try:\n",
    "                requirements = soup.find('div', class_= 'col-xs-12 field-offer-requirements')\n",
    "            except:\n",
    "                requirements = np.nan\n",
    "\n",
    "            temp = {\n",
    "                'date': datetime.now(),\n",
    "                'date_entered': datetime.now(),\n",
    "                'job_title': link[1],\n",
    "                'job_link': link[0],\n",
    "                'organization': organization,\n",
    "                'research_field': research_field,\n",
    "                'research_profile': research_profile,\n",
    "                'deadline': deadline,\n",
    "                'location': location,\n",
    "                'type_of_contract': type_of_contract,\n",
    "                'job_status': job_status,\n",
    "                'hours_per_week': hours_per_week,\n",
    "                'offer_starting_date': offer_starting_date,\n",
    "                'reference_number': reference_number,\n",
    "                'offer_description': offer_description,\n",
    "                'requirements': requirements\n",
    "            }\n",
    "            df = df.append(temp, ignore_index=True)\n",
    "\n",
    "        else:\n",
    "            print('website blocked')\n",
    "df"
   ]
  },
  {
   "cell_type": "code",
   "execution_count": 31,
   "id": "45db2684",
   "metadata": {},
   "outputs": [
    {
     "data": {
      "text/plain": [
       "200"
      ]
     },
     "execution_count": 31,
     "metadata": {},
     "output_type": "execute_result"
    }
   ],
   "source": [
    "response.status_code"
   ]
  },
  {
   "cell_type": "code",
   "execution_count": 32,
   "id": "8b161122",
   "metadata": {},
   "outputs": [
    {
     "data": {
      "text/html": [
       "<div>\n",
       "<style scoped>\n",
       "    .dataframe tbody tr th:only-of-type {\n",
       "        vertical-align: middle;\n",
       "    }\n",
       "\n",
       "    .dataframe tbody tr th {\n",
       "        vertical-align: top;\n",
       "    }\n",
       "\n",
       "    .dataframe thead th {\n",
       "        text-align: right;\n",
       "    }\n",
       "</style>\n",
       "<table border=\"1\" class=\"dataframe\">\n",
       "  <thead>\n",
       "    <tr style=\"text-align: right;\">\n",
       "      <th></th>\n",
       "      <th>job_title</th>\n",
       "      <th>job_link</th>\n",
       "      <th>organization</th>\n",
       "      <th>research_field</th>\n",
       "      <th>research_profile</th>\n",
       "      <th>deadline</th>\n",
       "      <th>location</th>\n",
       "      <th>type_of_contract</th>\n",
       "      <th>job_status</th>\n",
       "      <th>hours_per_week</th>\n",
       "      <th>reference_number</th>\n",
       "      <th>offer_starting_date</th>\n",
       "      <th>offer_description</th>\n",
       "      <th>additional_information</th>\n",
       "      <th>requirements</th>\n",
       "      <th>date</th>\n",
       "      <th>date_entered</th>\n",
       "    </tr>\n",
       "  </thead>\n",
       "  <tbody>\n",
       "    <tr>\n",
       "      <th>0</th>\n",
       "      <td>Junior Fellow - 2D Materials and Technology</td>\n",
       "      <td>https://euraxess.ec.europa.eu/jobs/694150</td>\n",
       "      <td>Institute of Neurosciences</td>\n",
       "      <td>Neurosciences › Other</td>\n",
       "      <td>Recognised Researcher (R2)      \\n\\n      Esta...</td>\n",
       "      <td>22/10/2021 23:00 - Europe/Brussels</td>\n",
       "      <td>Portugal</td>\n",
       "      <td>Temporary</td>\n",
       "      <td>Full-time</td>\n",
       "      <td>40</td>\n",
       "      <td>NaN</td>\n",
       "      <td>NaN</td>\n",
       "      <td>Junior Fellow - 2D Materials and Technology\\n ...</td>\n",
       "      <td>NaN</td>\n",
       "      <td>None</td>\n",
       "      <td>2021-10-07 19:03:38.567450</td>\n",
       "      <td>2021-10-07 19:03:38.567450</td>\n",
       "    </tr>\n",
       "    <tr>\n",
       "      <th>1</th>\n",
       "      <td>Several PhD Positions in Life Sciences (65% TV...</td>\n",
       "      <td>https://euraxess.ec.europa.eu/jobs/694148</td>\n",
       "      <td>Institute of Neurosciences</td>\n",
       "      <td>Neurosciences › Other</td>\n",
       "      <td>Recognised Researcher (R2)      \\n\\n      Esta...</td>\n",
       "      <td>22/10/2021 23:00 - Europe/Brussels</td>\n",
       "      <td>Germany</td>\n",
       "      <td>Permanent</td>\n",
       "      <td>Full-time</td>\n",
       "      <td>40</td>\n",
       "      <td>NaN</td>\n",
       "      <td>01/01/2022</td>\n",
       "      <td>The Faculty of Biology at the University of Ka...</td>\n",
       "      <td>NaN</td>\n",
       "      <td>[[[&lt;li&gt;\\n&lt;div class=\"row\"&gt;\\n&lt;div class=\"col-xs...</td>\n",
       "      <td>2021-10-07 19:03:44.419045</td>\n",
       "      <td>2021-10-07 19:03:44.419045</td>\n",
       "    </tr>\n",
       "  </tbody>\n",
       "</table>\n",
       "</div>"
      ],
      "text/plain": [
       "                                           job_title  \\\n",
       "0        Junior Fellow - 2D Materials and Technology   \n",
       "1  Several PhD Positions in Life Sciences (65% TV...   \n",
       "\n",
       "                                    job_link                organization  \\\n",
       "0  https://euraxess.ec.europa.eu/jobs/694150  Institute of Neurosciences   \n",
       "1  https://euraxess.ec.europa.eu/jobs/694148  Institute of Neurosciences   \n",
       "\n",
       "          research_field                                   research_profile  \\\n",
       "0  Neurosciences › Other  Recognised Researcher (R2)      \\n\\n      Esta...   \n",
       "1  Neurosciences › Other  Recognised Researcher (R2)      \\n\\n      Esta...   \n",
       "\n",
       "                             deadline  location type_of_contract job_status  \\\n",
       "0  22/10/2021 23:00 - Europe/Brussels  Portugal        Temporary  Full-time   \n",
       "1  22/10/2021 23:00 - Europe/Brussels   Germany        Permanent  Full-time   \n",
       "\n",
       "  hours_per_week reference_number offer_starting_date  \\\n",
       "0             40              NaN                 NaN   \n",
       "1             40              NaN          01/01/2022   \n",
       "\n",
       "                                   offer_description additional_information  \\\n",
       "0  Junior Fellow - 2D Materials and Technology\\n ...                    NaN   \n",
       "1  The Faculty of Biology at the University of Ka...                    NaN   \n",
       "\n",
       "                                        requirements  \\\n",
       "0                                               None   \n",
       "1  [[[<li>\\n<div class=\"row\">\\n<div class=\"col-xs...   \n",
       "\n",
       "                        date               date_entered  \n",
       "0 2021-10-07 19:03:38.567450 2021-10-07 19:03:38.567450  \n",
       "1 2021-10-07 19:03:44.419045 2021-10-07 19:03:44.419045  "
      ]
     },
     "execution_count": 32,
     "metadata": {},
     "output_type": "execute_result"
    }
   ],
   "source": [
    "df.head()"
   ]
  },
  {
   "cell_type": "code",
   "execution_count": 33,
   "id": "5ee5b67b",
   "metadata": {},
   "outputs": [
    {
     "data": {
      "text/plain": [
       "'Junior\\xa0Fellow - 2D Materials and Technology'"
      ]
     },
     "execution_count": 33,
     "metadata": {},
     "output_type": "execute_result"
    }
   ],
   "source": [
    "lst[0][1]"
   ]
  },
  {
   "cell_type": "code",
   "execution_count": 34,
   "id": "b0d7296a",
   "metadata": {},
   "outputs": [],
   "source": [
    "jobs_check = df.job_title.isin([lst[0][1]]).any()"
   ]
  },
  {
   "cell_type": "code",
   "execution_count": 35,
   "id": "a60e5a39",
   "metadata": {},
   "outputs": [],
   "source": [
    "websites_check = df.job_link.isin([lst[0][0]]).any()"
   ]
  },
  {
   "cell_type": "code",
   "execution_count": 41,
   "id": "c17fa7b5",
   "metadata": {},
   "outputs": [
    {
     "ename": "SyntaxError",
     "evalue": "unexpected EOF while parsing (<ipython-input-41-526d399b6a2f>, line 4)",
     "output_type": "error",
     "traceback": [
      "\u001b[1;36m  File \u001b[1;32m\"<ipython-input-41-526d399b6a2f>\"\u001b[1;36m, line \u001b[1;32m4\u001b[0m\n\u001b[1;33m    \u001b[0m\n\u001b[1;37m    ^\u001b[0m\n\u001b[1;31mSyntaxError\u001b[0m\u001b[1;31m:\u001b[0m unexpected EOF while parsing\n"
     ]
    }
   ],
   "source": [
    "jobs_check = df.job_title.isin([link[1]]).any()\n",
    "websites_check = df.job_link.isin([link[0]]).any()\n",
    "\n",
    "if jobs_check and websites_check:\n",
    "    i = df.job_title.isin([link[1]]) & df.job_link.isin([link[0]])\n",
    "    df.loc[i, 'date'] = datetime.now()  "
   ]
  },
  {
   "cell_type": "code",
   "execution_count": 40,
   "id": "e34bbef9",
   "metadata": {},
   "outputs": [
    {
     "data": {
      "text/html": [
       "<div>\n",
       "<style scoped>\n",
       "    .dataframe tbody tr th:only-of-type {\n",
       "        vertical-align: middle;\n",
       "    }\n",
       "\n",
       "    .dataframe tbody tr th {\n",
       "        vertical-align: top;\n",
       "    }\n",
       "\n",
       "    .dataframe thead th {\n",
       "        text-align: right;\n",
       "    }\n",
       "</style>\n",
       "<table border=\"1\" class=\"dataframe\">\n",
       "  <thead>\n",
       "    <tr style=\"text-align: right;\">\n",
       "      <th></th>\n",
       "      <th>job_title</th>\n",
       "      <th>job_link</th>\n",
       "      <th>organization</th>\n",
       "      <th>research_field</th>\n",
       "      <th>research_profile</th>\n",
       "      <th>deadline</th>\n",
       "      <th>location</th>\n",
       "      <th>type_of_contract</th>\n",
       "      <th>job_status</th>\n",
       "      <th>hours_per_week</th>\n",
       "      <th>reference_number</th>\n",
       "      <th>offer_starting_date</th>\n",
       "      <th>offer_description</th>\n",
       "      <th>additional_information</th>\n",
       "      <th>requirements</th>\n",
       "      <th>date</th>\n",
       "      <th>date_entered</th>\n",
       "    </tr>\n",
       "  </thead>\n",
       "  <tbody>\n",
       "    <tr>\n",
       "      <th>0</th>\n",
       "      <td>Junior Fellow - 2D Materials and Technology</td>\n",
       "      <td>https://euraxess.ec.europa.eu/jobs/694150</td>\n",
       "      <td>Institute of Neurosciences</td>\n",
       "      <td>Neurosciences › Other</td>\n",
       "      <td>Recognised Researcher (R2)      \\n\\n      Esta...</td>\n",
       "      <td>22/10/2021 23:00 - Europe/Brussels</td>\n",
       "      <td>Portugal</td>\n",
       "      <td>Temporary</td>\n",
       "      <td>Full-time</td>\n",
       "      <td>40</td>\n",
       "      <td>NaN</td>\n",
       "      <td>NaN</td>\n",
       "      <td>Junior Fellow - 2D Materials and Technology\\n ...</td>\n",
       "      <td>NaN</td>\n",
       "      <td>None</td>\n",
       "      <td>2021-10-07 19:03:38.567450</td>\n",
       "      <td>2021-10-07 19:03:38.567450</td>\n",
       "    </tr>\n",
       "  </tbody>\n",
       "</table>\n",
       "</div>"
      ],
      "text/plain": [
       "                                     job_title  \\\n",
       "0  Junior Fellow - 2D Materials and Technology   \n",
       "\n",
       "                                    job_link                organization  \\\n",
       "0  https://euraxess.ec.europa.eu/jobs/694150  Institute of Neurosciences   \n",
       "\n",
       "          research_field                                   research_profile  \\\n",
       "0  Neurosciences › Other  Recognised Researcher (R2)      \\n\\n      Esta...   \n",
       "\n",
       "                             deadline  location type_of_contract job_status  \\\n",
       "0  22/10/2021 23:00 - Europe/Brussels  Portugal        Temporary  Full-time   \n",
       "\n",
       "  hours_per_week reference_number offer_starting_date  \\\n",
       "0             40              NaN                 NaN   \n",
       "\n",
       "                                   offer_description additional_information  \\\n",
       "0  Junior Fellow - 2D Materials and Technology\\n ...                    NaN   \n",
       "\n",
       "  requirements                       date               date_entered  \n",
       "0         None 2021-10-07 19:03:38.567450 2021-10-07 19:03:38.567450  "
      ]
     },
     "execution_count": 40,
     "metadata": {},
     "output_type": "execute_result"
    }
   ],
   "source": [
    "i = df.job_title.isin([lst[0][1]]) & df.job_link.isin([lst[0][0]])\n",
    "df.loc[i, 'date'] = datetime.now()"
   ]
  },
  {
   "cell_type": "code",
   "execution_count": null,
   "id": "f4f516ea",
   "metadata": {},
   "outputs": [],
   "source": [
    "df.to_csv('euraxess.csv', index=False)\n"
   ]
  },
  {
   "cell_type": "code",
   "execution_count": null,
   "id": "d0739d80",
   "metadata": {},
   "outputs": [],
   "source": []
  }
 ],
 "metadata": {
  "kernelspec": {
   "display_name": "Python 3",
   "language": "python",
   "name": "python3"
  },
  "language_info": {
   "codemirror_mode": {
    "name": "ipython",
    "version": 3
   },
   "file_extension": ".py",
   "mimetype": "text/x-python",
   "name": "python",
   "nbconvert_exporter": "python",
   "pygments_lexer": "ipython3",
   "version": "3.8.8"
  }
 },
 "nbformat": 4,
 "nbformat_minor": 5
}
