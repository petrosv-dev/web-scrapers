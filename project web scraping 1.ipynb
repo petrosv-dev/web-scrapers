{
 "cells": [
  {
   "cell_type": "code",
   "execution_count": 8,
   "id": "78e8229b",
   "metadata": {},
   "outputs": [],
   "source": [
    "from bs4 import BeautifulSoup\n",
    "import requests\n",
    "import re \n",
    "import pandas as pd\n",
    "import numpy as np\n",
    "from datetime import datetime, timedelta\n",
    "from tqdm import tqdm_notebook as tqdm \n",
    "import matplotlib.pyplot as plt\n",
    "import httplib2\n",
    "from bs4 import BeautifulSoup, SoupStrainer\n"
   ]
  },
  {
   "cell_type": "code",
   "execution_count": 9,
   "id": "23149316",
   "metadata": {},
   "outputs": [
    {
     "name": "stdout",
     "output_type": "stream",
     "text": [
      "<Response [200]>\n"
     ]
    }
   ],
   "source": [
    "url = \"https://euraxess.ec.europa.eu/jobs/search?page=1\"\n",
    "headers={'User-Agent': ''}\n",
    "page = requests.get(url,timeout=15, headers= headers)\n",
    "print(page)"
   ]
  },
  {
   "cell_type": "code",
   "execution_count": 10,
   "id": "47303d09",
   "metadata": {},
   "outputs": [],
   "source": [
    "soup = BeautifulSoup(page.content, \"html.parser\")\n"
   ]
  },
  {
   "cell_type": "code",
   "execution_count": 5,
   "id": "dc2d53fd",
   "metadata": {},
   "outputs": [
    {
     "data": {
      "text/plain": [
       "'Filter by'"
      ]
     },
     "execution_count": 5,
     "metadata": {},
     "output_type": "execute_result"
    }
   ],
   "source": [
    "filter = soup.find_all(\"button\", {\"data-toggle\": \"dropdown\"})[0].get_text().strip()\n",
    "filter"
   ]
  },
  {
   "cell_type": "code",
   "execution_count": 14,
   "id": "8d71ee41",
   "metadata": {},
   "outputs": [
    {
     "name": "stdout",
     "output_type": "stream",
     "text": [
      "#main-content\n",
      "/\n",
      "https://ec.europa.eu\n",
      "/\n",
      "/jobs\n",
      "/\n",
      "/jobs\n",
      "# \n",
      "/jobs#job-tabs-tab-3-name\n",
      "/jobs/charter-code-researchers\n",
      "/jobs/hrs4r\n",
      "/information/pensions-researchers\n",
      "/jobs/science4refugees\n",
      "/jobs#job-tabs-tab-4-name\n",
      "/information/centres/search/field_esc_expertise/career-development-1219\n",
      "https://euraxess.ec.europa.eu/career-development/researchers\n",
      "https://euraxess.ec.europa.eu/career-development/researchers#career-tabs-find-training-resources\n",
      "https://euraxess.ec.europa.eu/career-development/organisations\n",
      "/jobs/search\n",
      "/jobs/posting\n",
      "/funding/search\n",
      "/jobs/hosting/search\n",
      "/career-development\n",
      "/partnering\n",
      "# \n",
      "/partnering/members/search\n",
      "/partnering/organisations/search\n",
      "/my\n",
      "/information\n",
      "# \n",
      "/information#information-assistance-tab-component-tab-2-name\n",
      "https://euraxess.ec.europa.eu/information#information-assistance-tab-component-tab-3-name\n",
      "https://euraxess.ec.europa.eu/information#information-assistance-tab-component-tab-4-name\n",
      "/choose-your-country\n",
      "/information/centres/search\n",
      "/choose-your-country\n",
      "/worldwide\n",
      "# \n",
      "/worldwide/africa\n",
      "/worldwide/asean\n",
      "/worldwide/australia-nz\n",
      "/worldwide/lac\n",
      "/worldwide/china\n",
      "/worldwide/india\n",
      "/worldwide/japan\n",
      "/worldwide/south-korea\n",
      "/worldwide/north-america\n",
      "/user\n",
      "#field_research_field_tab_item\n",
      "#field_research_profile_tab_item\n",
      "#field_hiring_body_field_organisation_type_tab_item\n",
      "#field_offer_location_field_country_tab_item\n",
      "#field_is_eu_founded_tab_item\n",
      "#field_research_profile\n",
      "/\n",
      "/jobs/search?filterBy=science4refugees\n",
      "/jobs/search?filterBy=researchInfrastructures\n",
      "/jobs/search?sort=created&order=desc\n",
      "/jobs/search?sort=field_application_deadline&order=asc\n",
      "/jobs/691551\n",
      "/jobs/691551\n",
      "/jobs/691550\n",
      "/jobs/691550\n",
      "/jobs/691548\n",
      "/jobs/691548\n",
      "/jobs/691547\n",
      "/jobs/691547\n",
      "/jobs/691545\n",
      "/jobs/691545\n",
      "/jobs/691544\n",
      "/jobs/691544\n",
      "/jobs/691541\n",
      "/jobs/691541\n",
      "http://ec.europa.eu/research/mariecurieactions/\n",
      "/jobs/691538\n",
      "/jobs/691538\n",
      "/jobs/691537\n",
      "/jobs/691537\n",
      "/jobs/691534\n",
      "/jobs/691534\n",
      "/jobs/search\n",
      "/jobs/search?page=2\n",
      "mailto:support@euraxess.org\n",
      "/user?destination=jobs/search%3Fpage%3D1\n",
      "#\n",
      "https://www.facebook.com/euraxess/\n",
      "https://www.linkedin.com/company/euraxessofficial/\n",
      "/contact-us\n",
      "/jobs\n",
      "/jobs/search\n",
      "/jobs#job-tabs-tab-1-name\n",
      "/funding/search\n",
      "/jobs/hosting/search\n",
      "/jobs/charter-code-researchers\n",
      "/jobs/hrs4r\n",
      "/career-development\n",
      "/career-development/researchers\n",
      "/career-development/organisations\n",
      "/partnering\n",
      "/partnering/members/search\n",
      "/partnering/organisations/search\n",
      "/information\n",
      "/information#information-tabs-living-in-europe\n",
      "/information#information-tabs-working-in-europe\n",
      "/information#information-tabs-leaving-europe\n",
      "/information/centres/search\n",
      "/information/pensions-researchers\n",
      "/information#entry_conditions\n",
      "/worldwide\n",
      "https://euraxess.ec.europa.eu/worldwide/africa\n",
      "/worldwide/asean\n",
      "/worldwide/australia-nz\n",
      "/worldwide/china\n",
      "/worldwide/india\n",
      "/worldwide/japan\n",
      "/worldwide/south-korea\n",
      "/worldwide/lac\n",
      "/worldwide/north-america\n",
      "/my\n",
      "/user\n",
      "/user/register\n",
      "/useful-information\n",
      "/contact-us\n",
      "/contact-us\n",
      "/useful-information/about-euraxess\n",
      "/useful-information/faq\n",
      "/useful-information/brochures\n",
      "/useful-information/policy-library\n",
      "/useful-information/useful-links\n",
      "/useful-information/privacy-statement\n",
      "/useful-information#legal-information\n",
      "/useful-information/accessibility-statement\n",
      "https://ec.europa.eu/commission/index_en\n",
      "https://ec.europa.eu/info/index_en\n",
      "https://www.facebook.com/EuropeanCommission\n",
      "https://twitter.com/EU_commission\n",
      "https://europa.eu/european-union/contact/social-networks_en\n",
      "https://europa.eu/european-union/about-eu/institutions-bodies_en\n",
      "https://europa.eu/european-union/index_en\n",
      "http://ec.europa.eu/info/about-commissions-new-web-presence_en\n",
      "http://ec.europa.eu/info/resources-partners_en\n",
      "http://ec.europa.eu/info/cookies_en\n",
      "http://ec.europa.eu/info/legal-notice_en\n",
      "http://ec.europa.eu/info/contact_en\n"
     ]
    }
   ],
   "source": [
    "from bs4 import BeautifulSoup\n",
    "import urllib.request\n",
    "\n",
    "parser = 'html.parser'  # or 'lxml' (preferred) or 'html5lib', if installed\n",
    "resp = urllib.request.urlopen(\"https://euraxess.ec.europa.eu/jobs/search?page=1\")\n",
    "soup = BeautifulSoup(resp, parser, from_encoding=resp.info().get_param('charset'))\n",
    "\n",
    "for link in soup.find_all('a', href=True):\n",
    "    print(link['href'])"
   ]
  },
  {
   "cell_type": "code",
   "execution_count": null,
   "id": "cd45109a",
   "metadata": {},
   "outputs": [],
   "source": []
  }
 ],
 "metadata": {
  "kernelspec": {
   "display_name": "Python 3",
   "language": "python",
   "name": "python3"
  },
  "language_info": {
   "codemirror_mode": {
    "name": "ipython",
    "version": 3
   },
   "file_extension": ".py",
   "mimetype": "text/x-python",
   "name": "python",
   "nbconvert_exporter": "python",
   "pygments_lexer": "ipython3",
   "version": "3.8.8"
  }
 },
 "nbformat": 4,
 "nbformat_minor": 5
}
